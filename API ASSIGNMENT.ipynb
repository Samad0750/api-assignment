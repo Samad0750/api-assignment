{
 "cells": [
  {
   "cell_type": "markdown",
   "id": "939af622-2b0a-45a9-bbb8-74af9940efeb",
   "metadata": {},
   "source": [
    "QUESTION 1\n",
    "\n",
    "API STANDS FOR APPLICATION PROGRAMMING INTERFACE . IT IS  A SOFTWARE INTERMEDIARY THAT TWO APPLICATIONS TO  TALK TO EACH OTHER.\n",
    "\n",
    "USES OF API's :-\n",
    "1.PAY WITH PAYPAL.\n",
    "\n",
    "2.ORDER WITH ZOMATO.\n",
    "\n",
    "3.TWITTER BOT.\n",
    "\n",
    "4.OLA,UBER."
   ]
  },
  {
   "cell_type": "markdown",
   "id": "297f30bd-2ce9-46b9-9127-a893574e8bb1",
   "metadata": {},
   "source": [
    "QUESTION 2\n",
    "\n",
    "ADVANTAGES:- The major benefit of using an API is accessing and consuming data and services from thousands of independent sources. This means organizations of all sizes can access these functionalities without developing their own specialized applications. Other major benefits to using APIs include: APIs increase business agility.\n",
    "\n",
    "DISADVANTAGES:- Complexity: APIs can be complex, requiring a significant amount of development effort to implement and maintain.\n",
    "Compatibility Issues: APIs can have compatibility issues between different versions of the same software system or between different systems, which can lead to errors and system failures."
   ]
  },
  {
   "cell_type": "markdown",
   "id": "232b7d91-a2d2-4ef7-b402-08349587ac9f",
   "metadata": {},
   "source": [
    "QUESTION 3\n",
    "\n",
    "Web API is an API as the name suggests, it can be accessed over the web using the HTTP protocol. It is a framework that helps you to create and develop HTTP based RESTFUL services. The web API can be developed by using different technologies such as java, ASP.NET, etc. Web API is used in either a web server or a web browser. Basically Web API is a web development concept. It is limited to Web Application’s client-side and also it does not include a web server or web browser details. If an application is to be used on a distributed system and to provide services on different devices like laptops, mobiles, etc then web API services are used. Web API is the enhanced form of the web application."
   ]
  },
  {
   "cell_type": "markdown",
   "id": "91f31678-21de-4a04-a2ec-20ec05583f4a",
   "metadata": {},
   "source": [
    "API is an interface that exposes an application's data to outside software, whereas web applications are one type of API with stricter requirements. These requirements include network communication, SOAP as the primary protocol, and less accessibility for the public. "
   ]
  },
  {
   "cell_type": "markdown",
   "id": "abf62d8f-bad5-4009-b883-36f7abba6205",
   "metadata": {},
   "source": [
    "QUESTION 4\n",
    "\n",
    "SOAP stands for SIMPLE ORIENTED ACCESS PROTOCOL.\n",
    "REST stands for REPRESENTATIONAL STATE TRANSFER.\n",
    "\n",
    "\n",
    "SOAP and REST are two different approaches to API design. The SOAP approach is highly structured and uses XML data format. REST is more flexible and allows applications to exchange data in multiple formats."
   ]
  },
  {
   "cell_type": "markdown",
   "id": "dbbece38-434d-4009-ba55-1433cea0593f",
   "metadata": {},
   "source": [
    "Design.Soap is a standardized protocol for pre-defined rules to follow.Rest has an architectural style with loose guidelines.\n",
    "Approach. Soap  is functional-driven, means that data here is available as services, eg, getUser. Rest  is data-driven, meaning that data is available as resources."
   ]
  },
  {
   "cell_type": "code",
   "execution_count": null,
   "id": "ed297b0d-adfe-4bb0-bdac-f8ade0e481e5",
   "metadata": {},
   "outputs": [],
   "source": []
  }
 ],
 "metadata": {
  "kernelspec": {
   "display_name": "Python 3 (ipykernel)",
   "language": "python",
   "name": "python3"
  },
  "language_info": {
   "codemirror_mode": {
    "name": "ipython",
    "version": 3
   },
   "file_extension": ".py",
   "mimetype": "text/x-python",
   "name": "python",
   "nbconvert_exporter": "python",
   "pygments_lexer": "ipython3",
   "version": "3.10.8"
  }
 },
 "nbformat": 4,
 "nbformat_minor": 5
}
